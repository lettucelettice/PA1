{
 "cells": [
  {
   "cell_type": "code",
   "execution_count": null,
   "id": "2f8e4b4f-7a55-49de-baad-8d280b1d4952",
   "metadata": {},
   "outputs": [],
   "source": [
    "#ALPHABET PROBLEM"
   ]
  },
  {
   "cell_type": "code",
   "execution_count": null,
   "id": "8b67ab2d-052c-45b4-b77f-43f47a729f37",
   "metadata": {},
   "outputs": [],
   "source": [
    "def sort_string_alphabetically():\n",
    "    # Take user input\n",
    "    input_string = input(\"Enter a string: \")\n",
    "    \n",
    "    # Sort the characters alphabetically\n",
    "    sorted_string = ''.join(sorted(input_string))\n",
    "    \n",
    "    return sorted_string\n",
    "\n",
    "# Example usage:\n",
    "result = sort_string_alphabetically()\n",
    "print(\"Sorted string:\", result)"
   ]
  },
  {
   "cell_type": "code",
   "execution_count": null,
   "id": "249f8f17-7055-4cec-a1a2-6e45b8574178",
   "metadata": {},
   "outputs": [],
   "source": []
  },
  {
   "cell_type": "code",
   "execution_count": null,
   "id": "571266e7-99ac-45ac-9cf6-3be8526ddca0",
   "metadata": {},
   "outputs": [],
   "source": [
    "#EMOTICON PROBLEM"
   ]
  },
  {
   "cell_type": "code",
   "execution_count": 6,
   "id": "30ce7c22-10ad-4521-88dc-7b64c293c1b4",
   "metadata": {},
   "outputs": [
    {
     "name": "stdin",
     "output_type": "stream",
     "text": [
      "Input a Sentence:  you make me smile and mad\n"
     ]
    },
    {
     "name": "stdout",
     "output_type": "stream",
     "text": [
      "you make me smile and mad\n",
      "you make me :) and >:(\n"
     ]
    }
   ],
   "source": [
    "def main():\n",
    "    sentence = input(\"Input a Sentence: \")\n",
    "    print(sentence)\n",
    "    sentence = convert(sentence)\n",
    "    print(sentence)\n",
    "\n",
    "def convert(sentence):\n",
    "    sentence = sentence.replace(\"smile\", \":)\")\n",
    "    sentence = sentence.replace(\"grin\", \":D\")\n",
    "    sentence = sentence.replace(\"sad\", \":(\")\n",
    "    sentence = sentence.replace(\"mad\", \">:(\")\n",
    "    return sentence\n",
    "\n",
    "main()"
   ]
  },
  {
   "cell_type": "code",
   "execution_count": null,
   "id": "46ce521a-f580-40f5-ba3f-bb7bf8b6aa68",
   "metadata": {},
   "outputs": [],
   "source": []
  },
  {
   "cell_type": "code",
   "execution_count": null,
   "id": "8f8c25d4-820a-4d48-b585-d647f0ab48de",
   "metadata": {},
   "outputs": [],
   "source": [
    "#UNPACKING LIST PROBLEM"
   ]
  },
  {
   "cell_type": "code",
   "execution_count": 3,
   "id": "4a1bcfb5-6b5b-46f1-9777-3ed140e642d0",
   "metadata": {},
   "outputs": [
    {
     "name": "stdin",
     "output_type": "stream",
     "text": [
      "Enter a list:  3 4 45 6 77 8 9\n"
     ]
    },
    {
     "name": "stdout",
     "output_type": "stream",
     "text": [
      "First: 3\n",
      "Middle: ['4', '45', '6', '77', '8']\n",
      "Last: 9\n"
     ]
    }
   ],
   "source": [
    "def unpack_list():\n",
    "    user_input = input(\"Enter a list: \")\n",
    "    input_list = user_input.split()\n",
    "\n",
    "    first, *middle, last = input_list\n",
    "    \n",
    "    print(\"First:\", first)\n",
    "    print(\"Middle:\", middle)\n",
    "    print(\"Last:\", last)\n",
    "\n",
    "unpack_list()"
   ]
  },
  {
   "cell_type": "code",
   "execution_count": null,
   "id": "52fff82f-cf66-4ef3-95a3-8022468a5007",
   "metadata": {},
   "outputs": [],
   "source": []
  }
 ],
 "metadata": {
  "kernelspec": {
   "display_name": "anaconda-panel-2023.05-py310",
   "language": "python",
   "name": "conda-env-anaconda-panel-2023.05-py310-py"
  },
  "language_info": {
   "codemirror_mode": {
    "name": "ipython",
    "version": 3
   },
   "file_extension": ".py",
   "mimetype": "text/x-python",
   "name": "python",
   "nbconvert_exporter": "python",
   "pygments_lexer": "ipython3",
   "version": "3.11.5"
  }
 },
 "nbformat": 4,
 "nbformat_minor": 5
}
